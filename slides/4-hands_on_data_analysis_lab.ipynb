{
 "cells": [
  {
   "cell_type": "markdown",
   "id": "cd969b0d-8764-468e-9ab1-0e7aabbdfa1b",
   "metadata": {
    "slideshow": {
     "slide_type": "slide"
    },
    "tags": [
     "id_section-4"
    ]
   },
   "source": [
    "# Section 4: Hands-On Data Analysis Lab\n",
    "\n",
    "We will practice all that you’ve learned in a hands-on lab. This section features a set of analysis tasks that provide opportunities to apply the material from the previous sections.\n",
    "\n",
    "<div style=\"text-align: center;\">\n",
    "<img width=\"20%\" src=\"https://www.pngkey.com/png/detail/102-1027124_animals-pandas-panda-transparent-background.png\" alt=\"Animals - Pandas - Panda Transparent Background@pngkey.com\" style=\"min-width: 200px\">\n",
    "</div>"
   ]
  },
  {
   "cell_type": "markdown",
   "id": "7e2335f9-c4d8-4fa8-bbe1-eeabf813234e",
   "metadata": {
    "slideshow": {
     "slide_type": "slide"
    },
    "tags": []
   },
   "source": [
    "## Lab Tasks\n",
    "\n",
    "[This](https://forms.gle/wnyDZwCjgvn9fuHK9) Google form contains all the tasks for this lab. You can submit as many times as you wish, and you will be able to see which questions you got wrong (if any)."
   ]
  },
  {
   "cell_type": "markdown",
   "id": "18ff7cfd-ab75-4858-a1e5-1ea8613d545b",
   "metadata": {
    "slideshow": {
     "slide_type": "fragment"
    },
    "tags": []
   },
   "source": [
    "#### Important notes:\n",
    "- You don't have to answer all the questions to submit.\n",
    "- There are likely more questions than you will have time to answer, so be sure to submit before the session ends."
   ]
  },
  {
   "cell_type": "markdown",
   "id": "87f2f8d9-4f35-431a-abcd-a0819e4fc47c",
   "metadata": {
    "slideshow": {
     "slide_type": "slide"
    },
    "tags": []
   },
   "source": [
    "## Section 4 Complete 🎉\n",
    "<img width=\"30%\" src=\"https://www.pngkey.com/png/detail/246-2469554_panda-anime-png-png-panda.png\" alt=\"Panda Anime Png - Png Panda@pngkey.com\" style=\"min-width: 300px\">"
   ]
  },
  {
   "cell_type": "markdown",
   "id": "b6c1e37c-eff2-4451-9cf4-2c63427ee3af",
   "metadata": {
    "slideshow": {
     "slide_type": "slide"
    },
    "tags": [
     "id_fin"
    ]
   },
   "source": [
    "# Thank you!\n",
    "\n",
    "*I hope you enjoyed the workshop. Note that all the examples were developed exclusively for this workshop &ndash; check out [Hands-On Data Analysis with Pandas](https://www.amazon.com/Hands-Data-Analysis-Pandas-visualization-dp-1800563450/dp/1800563450/) and my [Beyond the Basics: Data Visualization in Python](https://github.com/stefmolin/python-data-viz-workshop) workshop for more.*\n",
    "\n",
    "<div style=\"text-align: center;\">\n",
    "    <img width=\"20%\" src=\"https://raw.githubusercontent.com/stefmolin/Hands-On-Data-Analysis-with-Pandas-2nd-edition/master/_img/pandas_drawing.PNG\" style=\"min-width: 200px\">\n",
    "    <div><small>\n",
    "        <a href=\"https://linktr.ee/stefaniemolin\">linktr.ee/stefaniemolin</a>\n",
    "    </small></div>\n",
    "</div>"
   ]
  }
 ],
 "metadata": {
  "kernelspec": {
   "display_name": "Python 3 (ipykernel)",
   "language": "python",
   "name": "python3"
  },
  "language_info": {
   "codemirror_mode": {
    "name": "ipython",
    "version": 3
   },
   "file_extension": ".py",
   "mimetype": "text/x-python",
   "name": "python",
   "nbconvert_exporter": "python",
   "pygments_lexer": "ipython3",
   "version": "3.10.2"
  }
 },
 "nbformat": 4,
 "nbformat_minor": 5
}
